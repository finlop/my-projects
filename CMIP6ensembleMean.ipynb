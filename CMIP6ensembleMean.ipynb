{
 "cells": [
  {
   "cell_type": "markdown",
   "id": "caaa72f5",
   "metadata": {},
   "source": [
    "# Compute Local Ensemble Mean of CMIP6 Projections\n",
    "\n",
    "This notebook demonstrates the creation of an ensemble mean of CMIP6 ScenarioMIP models available in the Google Cloud.  This Notebook is licensed for free and open consumption under the [Attribution-NonCommercial 4.0 International (CC BY-NC 4.0)](https://creativecommons.org/licenses/by-nc/4.0/) license, Dr. T. Brikowski, U. Texas-Dallas Mar. 2025\n",
    "\n",
    "CVS: $Id: CMIP6ensembleMean.ipynb,v 25.7 2025/04/01 16:16:17 brikowi Exp $"
   ]
  },
  {
   "cell_type": "markdown",
   "id": "ff68be82",
   "metadata": {},
   "source": [
    "# Load needed packages\n",
    "\n",
    "Be sure they have been installed using \"conda install -c conda-forge packagename\"."
   ]
  },
  {
   "cell_type": "code",
   "execution_count": null,
   "id": "fdc6415c",
   "metadata": {},
   "outputs": [],
   "source": [
    "import glob\n",
    "import matplotlib.pyplot as plt\n",
    "import urllib.request\n",
    "import numpy as np\n",
    "import xarray as xr\n",
    "import zarr\n",
    "\n",
    "import pandas as pd\n",
    "from difflib import get_close_matches\n",
    "import gcsfs\n",
    "import datetime                                   # Pandas date/time manipulation routines\n",
    "import cftime                                     # NetCDF time manipulation routines\n",
    "import os\n",
    "\n",
    "# Plots open within notebook\n",
    "%matplotlib inline"
   ]
  },
  {
   "cell_type": "markdown",
   "id": "d4d44224",
   "metadata": {},
   "source": [
    "# Get list of desired models for processing\n",
    "Get file list from Google via the given URL, use Pandas (pd) to read the CSV file and save in a *dataframe* \"df\".  A Pandas dataframe is like a spreadsheet format for Python with named columns.  A slightly different approach for climate model result downloads can be explored at PanGeo [intake-esm](https://intake-esm.readthedocs.io/en/stable/tutorials/loading-cmip6-data.html).  That method requires zarr version <3.0, and so is not used for this class."
   ]
  },
  {
   "cell_type": "code",
   "execution_count": null,
   "id": "f242c002",
   "metadata": {},
   "outputs": [],
   "source": [
    "%%time\n",
    "df = pd.read_csv('https://storage.googleapis.com/cmip6/cmip6-zarr-consolidated-stores.csv')"
   ]
  },
  {
   "cell_type": "markdown",
   "id": "061e9807",
   "metadata": {},
   "source": [
    "## Get list of all available SSP5 8.5 models with *tasmax*\n",
    "Find lines in the file-list dataframe \"df\" that meet the given criteria, most important are that the variable *tasmax* is in the file and that it is from a model of experiment *ssp585* (the worst-case scenario emissions/warming)."
   ]
  },
  {
   "cell_type": "code",
   "execution_count": null,
   "id": "b7150da2",
   "metadata": {},
   "outputs": [],
   "source": [
    "df_ssp585 = df.query(\"activity_id=='ScenarioMIP' & table_id == 'Amon' & \" +\\\n",
    "    \"variable_id == 'tasmax' & experiment_id == 'ssp585' & member_id == 'r1i1p1f1'\")\n",
    "print(len(df_ssp585), 'forecast files match the search criteria, the first 3 are:')\n",
    "df_ssp585.head(3)"
   ]
  },
  {
   "cell_type": "markdown",
   "id": "ac22317d",
   "metadata": {},
   "source": [
    "## Get list of all historical models with *tasmax*"
   ]
  },
  {
   "cell_type": "code",
   "execution_count": null,
   "id": "12582277",
   "metadata": {},
   "outputs": [],
   "source": [
    "df_historical = df.query(\"activity_id == 'CMIP' & table_id == 'Amon' & \" +\\\n",
    "    \"variable_id == 'tasmax' & experiment_id == 'historical' & member_id == 'r1i1p1f1'\")\n",
    "print(len(df_historical), 'historical files match the search criteria, the first 3 are:')\n",
    "df_historical.head(3)"
   ]
  },
  {
   "cell_type": "markdown",
   "id": "93eb681d",
   "metadata": {},
   "source": [
    "## Make list of models with BOTH historical and future tasmax and pr\n",
    "See <a href=\"https://stackoverflow.com/questions/55898796/how-to-match-keys-of-2-data-frames-and-create-new-df-with-matching-keys\">StackOverflow</a> for suggestions.  Current code requires start with shortest dataframe (!)."
   ]
  },
  {
   "cell_type": "code",
   "execution_count": null,
   "id": "f07ad019",
   "metadata": {},
   "outputs": [],
   "source": [
    "seq = [r for r in df_ssp585[\"source_id\"] if get_close_matches(r, df_historical[\"source_id\"], n=1, cutoff = .85)]\n",
    "bothSources = np.unique(np.array(seq))\n",
    "print(len(bothSources), \"models have both historical and SSP5-8.5 results, e.g. \", bothSources[3])\n",
    "\n",
    "gcs = gcsfs.GCSFileSystem(token='anon')\n"
   ]
  },
  {
   "cell_type": "code",
   "execution_count": null,
   "id": "bd51521f",
   "metadata": {},
   "outputs": [],
   "source": [
    "for i in range(len(bothSources)):\n",
    "    # model = 'GFDL-CM4'\n",
    "    print(\"Model name: \", bothSources[i])\n"
   ]
  },
  {
   "cell_type": "markdown",
   "id": "418b9c3d",
   "metadata": {},
   "source": [
    "## Define functions to get desired variable from desired model"
   ]
  },
  {
   "cell_type": "code",
   "execution_count": null,
   "id": "afaaa252",
   "metadata": {},
   "outputs": [],
   "source": [
    "def getVar (modelList, modelName):\n",
    "    # Custom function to get variable for model 'modelName' from list of possible models 'modelList'\n",
    "    zstore = modelList.query(f\"source_id == '{modelName}'\").zstore.values[0]\n",
    "    ds = xr.open_zarr(zstore, consolidated = True)\n",
    "    ds.load()\n",
    "    return ds"
   ]
  },
  {
   "cell_type": "code",
   "execution_count": null,
   "id": "f9f24077",
   "metadata": {},
   "outputs": [],
   "source": [
    "# Define lat-long box, initially the DFW Metroplex\n",
    "# For best results be sure this is at least 2x2 degrees, to allow for coarse models\n",
    "left= 360-97.5\n",
    "right = 360-95.5\n",
    "bottom = 32.0\n",
    "top = 34.0\n",
    "locName = 'DFW'                     # Name of location (for labeling plots)"
   ]
  },
  {
   "cell_type": "markdown",
   "id": "8cd963ab",
   "metadata": {},
   "source": [
    "# Get historical model statistics\n",
    "\n",
    "Accumulate ensemble mean and confidence bands.\n",
    "\n",
    "Author's note: consider filtering for NaN results if lat-long box is narrower than some model grid spacing"
   ]
  },
  {
   "cell_type": "code",
   "execution_count": null,
   "id": "0110cfc3",
   "metadata": {},
   "outputs": [],
   "source": [
    "%%time\n",
    "filename = \"historical_tasmax.csv\"\n",
    "for i in range(len(bothSources)):\n",
    "    model = bothSources[i]\n",
    "    print(\"Processing model: %s\" % (model), end='...')\n",
    "    # Call my custom function\n",
    "    ds_hist = getVar(df_historical, model)\n",
    "    localHist = ds_hist.isel(lat = (ds_hist.lat>=bottom) & (ds_hist.lat<=top),\n",
    "                         lon = (ds_hist.lon>=left) & (ds_hist.lon<=right)).mean(['lat','lon']).drop_vars(['height'])\n",
    "    hist4export = (localHist.groupby('time.year').mean().tasmax-273.15)\n",
    "    tempDF = hist4export.to_dataframe()\n",
    "    # Append results to dataframe\n",
    "    if i==0:\n",
    "        histTASmax = tempDF\n",
    "        histTASmax.columns = [model]\n",
    "    else:\n",
    "        tempDF2 = pd.concat([histTASmax, tempDF[\"tasmax\"]], axis=1).reindex(histTASmax.index)\n",
    "        tempDF2.rename(columns={tempDF2.columns[i]:model}, inplace=True)\n",
    "        histTASmax = tempDF2\n"
   ]
  },
  {
   "cell_type": "markdown",
   "id": "e796ddc9",
   "metadata": {},
   "source": [
    "# Repeat for projected TASmax"
   ]
  },
  {
   "cell_type": "code",
   "execution_count": null,
   "id": "bdc66624",
   "metadata": {},
   "outputs": [],
   "source": [
    "%%time\n",
    "filename = \"ssp585_tasmax.csv\"\n",
    "for i in range(len(bothSources)):\n",
    "    model = bothSources[i]\n",
    "    print(\"Processing model: %s\" % (model), end='...')\n",
    "    ds_proj = getVar(df_ssp585, model)\n",
    "    localProj = ds_proj.isel(lat = (ds_proj.lat>=bottom) & (ds_proj.lat<=top),\n",
    "                         lon = (ds_proj.lon>=left) & (ds_proj.lon<=right)).mean(['lat','lon']).drop_vars(['height'])\n",
    "    proj4export = (localProj.groupby('time.year').mean().tasmax-273.15)\n",
    "    tempDF = proj4export.to_dataframe()\n",
    "    # Append results to dataframe\n",
    "    if i==0:\n",
    "        projTASmax = tempDF\n",
    "        projTASmax.columns = [model]\n",
    "    else:\n",
    "        tempDF2 = pd.concat([projTASmax, tempDF[\"tasmax\"]], axis=1).reindex(projTASmax.index)\n",
    "        tempDF2.rename(columns={tempDF2.columns[i]:model}, inplace=True)\n",
    "        projTASmax = tempDF2\n"
   ]
  },
  {
   "cell_type": "markdown",
   "id": "ab8226f3-eee3-4771-a778-de8491a374a0",
   "metadata": {},
   "source": [
    "# Generate and Plot Local All-Avaliable-Model Ensemble Mean-Median-Confidence Intervals\n",
    "\n",
    "Again note that models coarser than the specified local lat-long box will yield 'NaN' (not a number) values.  These are ignored by matplotlib, but may confuse other plotting tools like Excel."
   ]
  },
  {
   "cell_type": "code",
   "execution_count": null,
   "id": "26f6a90c-bf9d-4f99-959a-56b63aad7cd2",
   "metadata": {},
   "outputs": [],
   "source": [
    "projAvg = projTASmax.mean(axis=1)\n",
    "histAvg = histTASmax.mean(axis=1)"
   ]
  },
  {
   "cell_type": "markdown",
   "id": "90945bb4-137a-4bf4-844a-0160de605084",
   "metadata": {},
   "source": [
    "## Plot all models and mean"
   ]
  },
  {
   "cell_type": "code",
   "execution_count": null,
   "id": "8f95f933-92b4-4745-8e3d-62057c56f8b9",
   "metadata": {},
   "outputs": [],
   "source": [
    "colors = ['#89FAB4', '#FAE4A0', '#FA837D', '#B049E3', '#E3BA5F', '#E35E54', '#6591EA', '#EB83C6', '#EB1551', '#1802F4']\n",
    "styles = ['', '', '-+', '-o', '', '', '', '', '', '']\n",
    "\n",
    "ax = projTASmax.plot(style=styles, color=colors, figsize=(16, 9))  # plot the dataframe and set Time as x\n",
    "projAvg.plot(label='Mean', color='black', linewidth=4)\n",
    "ax.legend(bbox_to_anchor=(1, 1.01), loc='upper left') # move the legend\n",
    "fig = ax.get_figure()  # extract the figure object\n",
    "fig.tight_layout(pad=3)\n",
    "fig.suptitle(f'TASmax From All Available CMIP6 Models {locName} Area', fontsize=22, y=1.02, color='black')\n"
   ]
  },
  {
   "cell_type": "code",
   "execution_count": null,
   "id": "6c8fc111-abee-4b4b-b47a-8ff5ccce9494",
   "metadata": {},
   "outputs": [],
   "source": [
    "# Compute quantiles, append to dataframe\n",
    "histTASmax[\"Mean\"] = histAvg\n",
    "histTASmax[\"Q05\"] = histTASmax.quantile(.05, axis=1)\n",
    "histTASmax[\"Q25\"] = histTASmax.quantile(.25, axis=1)\n",
    "histTASmax[\"Q50\"] = histTASmax.quantile(.50, axis=1)       # Median not mean !\n",
    "histTASmax[\"Q75\"] = histTASmax.quantile(.75, axis=1)\n",
    "histTASmax[\"Q95\"] = histTASmax.quantile(.95, axis=1)\n",
    "\n",
    "# Save final results to file (alert Python programmers could just plot the dataframe histTASmax..)\n",
    "filename = f'allCMIP6historicalTASmax_{locName}.csv'\n",
    "histTASmax.to_csv(filename)\n",
    "print(\"\\nSaved local historic TASmax to file: \", filename)\n",
    "\n",
    "# Compute quantiles, append to dataframe\n",
    "projTASmax[\"Mean\"] = projAvg\n",
    "projTASmax[\"Q05\"] = projTASmax.quantile(.05, axis=1)\n",
    "projTASmax[\"Q25\"] = projTASmax.quantile(.25, axis=1)\n",
    "projTASmax[\"Q50\"] = projTASmax.quantile(.50, axis=1)\n",
    "projTASmax[\"Q75\"] = projTASmax.quantile(.75, axis=1)\n",
    "projTASmax[\"Q95\"] = projTASmax.quantile(.95, axis=1)\n",
    "\n",
    "# Save final results to file (alert Python programmers could just plot the dataframe projTASmax..)\n",
    "filename = f'allCMIP6projTASmax_{locName}.csv'\n",
    "projTASmax.to_csv(filename)\n",
    "print(\"\\nSaved local projected TASmax to file: \", filename)\n",
    "projTASmax.head(5)"
   ]
  },
  {
   "cell_type": "markdown",
   "id": "f73dbe2e-e9c5-4512-ae9e-3d3ba4492fd5",
   "metadata": {},
   "source": [
    "## Plot all-model mean-median & confidence intervals"
   ]
  },
  {
   "cell_type": "markdown",
   "id": "cf16be9d-f011-4f8f-b58e-aa2fe4480448",
   "metadata": {},
   "source": [
    "# Explore Mahoney-Wang-2022 Ensemble Local Mean\n",
    "\n",
    "[Mahoney, et al., 2022](https://dx.doi.org/10.1002/joc.7566) define 13 and 8 model ensembles drawn from 45 available CMIP6 models (in 2020).   These are claimed to be superior for North America, and especially for specialized downscaling approaches. "
   ]
  },
  {
   "cell_type": "code",
   "execution_count": null,
   "id": "de6af7cf-328c-40a9-8712-6a67d76aed18",
   "metadata": {},
   "outputs": [],
   "source": [
    "# Define list of model names in the two ensembles\n",
    "mahoneyWang13 = ['ACCESS-ESM1.5', 'BCC-CSM2', 'CanESM5', 'CNRM-ESM2-1', 'EC-Earth3', 'GFDL-ESM4', 'GISS-E2-1', 'INM-CM5-0', \n",
    "                 'IPSL-CM6A-LR', 'MIROC6', 'MPI-ESM1-2-HR', 'MRI-ESM2-0', 'UKESM1']\n",
    "mahoneyWang8 = ['ACCESS-ESM1-5', 'CNRM-ESM2-1', 'EC-Earth3', 'GFDL-ESM4', 'GISS-E2-1-H', 'MIROC6', 'MPI-ESM1-2-HR', 'MRI-ESM2-0']\n",
    "# Limit to Mahoney-Wang ensembles that have both historical ans SSP585 projection results at Google\n",
    "mahoneyBoth = []\n",
    "for i in range(len(mahoneyWang13)):\n",
    "    if get_close_matches(mahoneyWang13[i],bothSources, n=1, cutoff = .85):\n",
    "        mahoneyBoth.append(mahoneyWang13[i])\n",
    "    else:\n",
    "       print(f'\\n\\tModel {mahoneyWang13[i]}: unable to find historical and SSP585 results in Google CMIP6 list.')\n",
    "\n",
    "print(f'{len(mahoneyBoth)} out of {len(mahoneyWang13)} historical+SSP585 models available for ensemble calculations')"
   ]
  },
  {
   "cell_type": "code",
   "execution_count": null,
   "id": "c7fb2e91-e677-4200-81a3-55eb23d5bec6",
   "metadata": {},
   "outputs": [],
   "source": [
    "%%time\n",
    "colNum = 0\n",
    "for i in range(len(mahoneyBoth)):\n",
    "    model = mahoneyBoth[i]\n",
    "    print(f'Processing model {model}', end='...')\n",
    "    mh_hist = getVar(df_historical, model)\n",
    "    localHist = mh_hist.isel(lat = (mh_hist.lat>=bottom) & (mh_hist.lat<=top), lon = (mh_hist.lon>=left) \n",
    "                            & (mh_hist.lon<=right)).mean(['lat','lon']).drop_vars(['height'])\n",
    "    hist4export = (localHist.groupby('time.year').mean().tasmax-273.15)\n",
    "    tempDF = hist4export.to_dataframe()\n",
    "    # Append results to dataframe\n",
    "    if i==0:\n",
    "        mhhistTASmax = tempDF\n",
    "        mhhistTASmax.columns = [model]\n",
    "    else:\n",
    "        tempDF2 = pd.concat([mhhistTASmax, tempDF[\"tasmax\"]], axis=1).reindex(mhhistTASmax.index)\n",
    "        tempDF2.rename(columns={tempDF2.columns[colNum]:model}, inplace=True)\n",
    "        mhhistTASmax = tempDF2\n",
    "    colNum += 1\n",
    "\n",
    "mhhistTASmax"
   ]
  },
  {
   "cell_type": "code",
   "execution_count": null,
   "id": "f0e75806-3d11-4bfe-ab6a-1bc73ff79ebe",
   "metadata": {},
   "outputs": [],
   "source": [
    "%%time\n",
    "\n",
    "# Repeat for future\n",
    "maxTime = cftime.DatetimeNoLeap(2099, 12, 31, 23, 59, 59, 0, has_year_zero=True)   # Clip CanESMS model to 21st century\n",
    "colNum = 0\n",
    "for i in range(len(mahoneyBoth)):\n",
    "    model = mahoneyBoth[i]\n",
    "    print(f'Processing model {model}', end='...')\n",
    "    mh_proj = getVar(df_ssp585, model)\n",
    "    localProj = mh_proj.isel(lat = (mh_proj.lat>=bottom) & (mh_proj.lat<=top), lon = (mh_proj.lon>=left) \n",
    "                            & (mh_proj.lon<=right)).mean(['lat','lon']).drop_vars(['height'])\n",
    "    proj4export = (localProj.groupby('time.year').mean().tasmax-273.15)\n",
    "    tempDF = proj4export.to_dataframe()\n",
    "    # Append results to dataframe\n",
    "    if colNum==0:\n",
    "        mhprojTASmax = tempDF\n",
    "        mhprojTASmax.columns = [model]\n",
    "    else:\n",
    "        tempDF2 = pd.concat([mhprojTASmax, tempDF[\"tasmax\"]], axis=1).reindex(mhprojTASmax.index)\n",
    "        tempDF2.rename(columns={tempDF2.columns[colNum]:model}, inplace=True)\n",
    "        mhprojTASmax = tempDF2\n",
    "    colNum += 1        \n",
    "\n",
    "mhprojMeanTASmax = mhprojTASmax[:2100]                    # Clip array to 21st century (fix error in CanESMS...)\n"
   ]
  },
  {
   "cell_type": "markdown",
   "id": "89080bf1-f670-41d7-8510-0d3aa26da204",
   "metadata": {},
   "source": [
    "## Export ensemble means\n",
    "\n",
    "Calculate and include 50 & 95% confidence intervals.  Save to CSV file."
   ]
  },
  {
   "cell_type": "code",
   "execution_count": null,
   "id": "f04d6209-274a-46d5-a0c1-5f1194700aa1",
   "metadata": {},
   "outputs": [],
   "source": [
    "filename = f'CMPI6historicalEnsembleMeanTASmax_{locName}.csv'\n",
    "mhhistTASmax[\"Q05\"] = mhhistTASmax.quantile(.05, axis=1)\n",
    "mhhistTASmax[\"Q25\"] = mhhistTASmax.quantile(.25, axis=1)\n",
    "mhhistTASmax[\"Q50\"] = mhhistTASmax.quantile(.50, axis=1)\n",
    "mhhistTASmax[\"Q75\"] = mhhistTASmax.quantile(.75, axis=1)\n",
    "mhhistTASmax[\"Q95\"] = mhhistTASmax.quantile(.95, axis=1)\n",
    "mhhistTASmax[\"Mean\"] = mhhistTASmax.mean(axis=1)\n",
    "mhhistTASmax.to_csv(filename)\n",
    "print(\"\\nSaved local projected TASmax to file: \", filename)\n",
    "\n",
    "filename = f'ssp585ensembleMeanTASmax_{locName}.csv'\n",
    "mhprojTASmax[\"Q05\"] = mhprojTASmax.quantile(.05, axis=1)\n",
    "mhprojTASmax[\"Q25\"] = mhprojTASmax.quantile(.25, axis=1)\n",
    "mhprojTASmax[\"Q50\"] = mhprojTASmax.quantile(.50, axis=1)\n",
    "mhprojTASmax[\"Q75\"] = mhprojTASmax.quantile(.75, axis=1)\n",
    "mhprojTASmax[\"Q95\"] = mhprojTASmax.quantile(.95, axis=1)\n",
    "mhprojTASmax[\"Mean\"] = mhprojTASmax.mean(axis=1)\n",
    "mhprojTASmax.to_csv(filename)\n",
    "mhprojTASmax.head(5)"
   ]
  },
  {
   "cell_type": "markdown",
   "id": "56cb8228-7dea-435d-9c72-ff06945b5889",
   "metadata": {},
   "source": [
    "# Plot Ensemble Means & Confidence Interval"
   ]
  },
  {
   "cell_type": "code",
   "execution_count": null,
   "id": "d81e5594-f979-4a41-b185-74afb906f8d7",
   "metadata": {},
   "outputs": [],
   "source": []
  }
 ],
 "metadata": {
  "kernelspec": {
   "display_name": "Python 3 (ipykernel)",
   "language": "python",
   "name": "python3"
  },
  "language_info": {
   "codemirror_mode": {
    "name": "ipython",
    "version": 3
   },
   "file_extension": ".py",
   "mimetype": "text/x-python",
   "name": "python",
   "nbconvert_exporter": "python",
   "pygments_lexer": "ipython3",
   "version": "3.11.9"
  }
 },
 "nbformat": 4,
 "nbformat_minor": 5
}
