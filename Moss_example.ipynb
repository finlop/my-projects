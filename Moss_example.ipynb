{
 "cells": [
  {
   "cell_type": "code",
   "execution_count": null,
   "id": "491b85b0-aace-434d-806a-48c35ade2335",
   "metadata": {},
   "outputs": [],
   "source": [
    "import numpy as np\n",
    "import pandas as pd\n",
    "import matplotlib.pyplot as plt\n",
    "import matplotlib.pylab as pl\n",
    "from sklearn.ensemble import GradientBoostingRegressor\n",
    "from sklearn.preprocessing import MinMaxScaler\n",
    "from sklearn.pipeline import make_pipeline\n",
    "%matplotlib inline"
   ]
  },
  {
   "cell_type": "code",
   "execution_count": null,
   "id": "93fd689a-b0c4-4657-ac00-8cf8f3648ff2",
   "metadata": {
    "slideshow": {
     "slide_type": ""
    },
    "tags": []
   },
   "outputs": [],
   "source": [
    "power_curve_df = pd.read_csv(\"./power_curve.csv\")\n",
    "power_curve_df.head()"
   ]
  },
  {
   "cell_type": "code",
   "execution_count": null,
   "id": "b4fcc78d-c5cf-473b-9b7f-278c87ad980a",
   "metadata": {},
   "outputs": [],
   "source": [
    "fig, ax = plt.subplots(1, 1, constrained_layout=True)\n",
    "fig.set_size_inches([5, 3])\n",
    "\n",
    "ax.plot(power_curve_df[\"U\"], power_curve_df[\"Power\"], 'k.', markersize=0.75, rasterized=True)\n",
    "ax.set_xlabel(\"$U_{norm}$ [--]\")\n",
    "ax.set_ylabel(\"$P_{norm}$ [--]\")\n",
    "ax.grid(True)"
   ]
  },
  {
   "cell_type": "markdown",
   "id": "4d196fbd-b856-40e0-9f9f-27759a2cd444",
   "metadata": {},
   "source": [
    "# Apply a few iterations of machine learning filtering"
   ]
  },
  {
   "cell_type": "markdown",
   "id": "9a4709b0-d2eb-4309-94fb-c676d213bd09",
   "metadata": {},
   "source": [
    "#### First iteration..."
   ]
  },
  {
   "cell_type": "code",
   "execution_count": null,
   "id": "11a4f96d-f09f-43de-8e72-e618971f9c49",
   "metadata": {},
   "outputs": [],
   "source": [
    "inputs = power_curve_df[[\"U\", \"TI\"]].to_numpy()\n",
    "output = power_curve_df[\"Power\"].to_numpy()\n",
    "\n",
    "print(f\"Shape of the inputs: {inputs.shape}\")\n",
    "print(f\"Shape of the output: {output.shape}\")"
   ]
  },
  {
   "cell_type": "code",
   "execution_count": null,
   "id": "bcaefdee-e42c-4058-904d-0680de9c4dbb",
   "metadata": {},
   "outputs": [],
   "source": [
    "model_0 = make_pipeline(MinMaxScaler(), GradientBoostingRegressor())\n",
    "model_0.fit(inputs, output)\n",
    "pred_0 = model_0.predict(inputs)\n",
    "err_0 = np.abs(pred_0 - output)\n",
    "\n",
    "err_0_mean = np.mean(err_0)\n",
    "err_0_std = np.std(err_0)\n",
    "err_0_lim = err_0_mean + 2.5 * err_0_std"
   ]
  },
  {
   "cell_type": "code",
   "execution_count": null,
   "id": "1dcdc095-40b4-472e-b704-17f2dcd5eaad",
   "metadata": {},
   "outputs": [],
   "source": [
    "fig, axes = plt.subplots(1, 2, constrained_layout=True, sharex=\"all\")\n",
    "fig.set_size_inches([8, 3])\n",
    "\n",
    "axes[0].plot(inputs[:, 0], err_0, 'k.', markersize=0.75, rasterized=True)\n",
    "axes[0].axhline(err_0_mean, color=\"red\", linestyle='-', linewidth=2, label=\"Mean\")\n",
    "axes[0].axhline(err_0_lim, color=\"red\", linestyle='--', linewidth=1, label=\"St. Dev.\")\n",
    "axes[0].legend()\n",
    "\n",
    "axes[1].plot(\n",
    "    inputs[:, 0][err_0 < err_0_lim],\n",
    "    output[err_0 < err_0_lim],\n",
    "    'k.', markersize=1.25, rasterized=True,\n",
    "    label=\"Inlier\"\n",
    ")\n",
    "axes[1].plot(\n",
    "    inputs[:, 0][err_0 >= err_0_lim],\n",
    "    output[err_0 >= err_0_lim],\n",
    "    'rx', markersize=1.5, rasterized=True,\n",
    "    label=\"Outlier\"\n",
    ")\n",
    "axes[1].legend()\n",
    "\n",
    "axes[0].set_ylabel(\"$|P_{pred}-P_{true}|$ [--]\")\n",
    "axes[1].set_ylabel(\"$P_{norm}$\")\n",
    "fig.supxlabel(\"$U_{norm}$ [--]\")\n",
    "\n",
    "for ax in axes:\n",
    "    ax.grid(True)"
   ]
  },
  {
   "cell_type": "markdown",
   "id": "a3ba0c52-0723-4c39-8748-bbc5ecd84f61",
   "metadata": {},
   "source": [
    "#### Second iteration..."
   ]
  },
  {
   "cell_type": "code",
   "execution_count": null,
   "id": "51a1efc1-bc64-46f9-8a75-6dc73e66ed28",
   "metadata": {},
   "outputs": [],
   "source": [
    "inputs_filt_1 = inputs[err_0 < err_0_lim]\n",
    "output_filt_1 = output[err_0 < err_0_lim]\n",
    "\n",
    "print(f\"Shape of inputs after first filtering iteration:              {inputs_filt_1.shape}\")\n",
    "print(f\"Shape of output after first filtering iteration:              {output_filt_1.shape}\")\n",
    "print(f\"Number of rejected points from first filtering iteration:     {output.shape[0]-output_filt_1.shape[0]}\")"
   ]
  },
  {
   "cell_type": "code",
   "execution_count": null,
   "id": "a94e4cea-47a7-4667-97e8-9cbe1c1950cd",
   "metadata": {},
   "outputs": [],
   "source": [
    "model_1 = make_pipeline(MinMaxScaler(), GradientBoostingRegressor())\n",
    "model_1.fit(inputs_filt_1, output_filt_1)\n",
    "pred_1 = model_1.predict(inputs_filt_1)\n",
    "err_1 = np.abs(pred_1 - output_filt_1)\n",
    "\n",
    "err_1_mean = np.mean(err_1)\n",
    "err_1_std = np.std(err_1)\n",
    "err_1_lim = err_1_mean + 2.5 * err_1_std"
   ]
  },
  {
   "cell_type": "code",
   "execution_count": null,
   "id": "cba06921-8ccc-4537-87df-aaacaa321a9e",
   "metadata": {},
   "outputs": [],
   "source": [
    "fig, axes = plt.subplots(1, 2, constrained_layout=True, sharex=\"all\")\n",
    "fig.set_size_inches([8, 3])\n",
    "\n",
    "axes[0].plot(inputs_filt_1[:, 0], err_1, 'k.', markersize=0.75, rasterized=True)\n",
    "axes[0].axhline(err_1_mean, color=\"red\", linestyle='-', linewidth=2, label=\"Mean\")\n",
    "axes[0].axhline(err_1_lim, color=\"red\", linestyle='--', linewidth=1, label=\"St. Dev.\")\n",
    "axes[0].legend()\n",
    "\n",
    "axes[1].plot(\n",
    "    inputs_filt_1[:, 0][err_1 < err_1_lim],\n",
    "    output_filt_1[err_1 < err_1_lim],\n",
    "    'k.', markersize=1.25, rasterized=True,\n",
    "    label=\"Inlier\"\n",
    ")\n",
    "axes[1].plot(\n",
    "    inputs_filt_1[:, 0][err_1 >= err_1_lim],\n",
    "    output_filt_1[err_1 >= err_1_lim],\n",
    "    'rx', markersize=1.5, rasterized=True,\n",
    "    label=\"Outlier\"\n",
    ")\n",
    "axes[1].legend()\n",
    "\n",
    "axes[0].set_ylabel(\"$|P_{pred}-P_{true}|$ [--]\")\n",
    "axes[1].set_ylabel(\"$P_{norm}$\")\n",
    "fig.supxlabel(\"$U_{norm}$ [--]\")\n",
    "\n",
    "for ax in axes:\n",
    "    ax.grid(True)"
   ]
  },
  {
   "cell_type": "code",
   "execution_count": null,
   "id": "0a15dfda-cfad-4f0b-84e5-3f8b4e10a34b",
   "metadata": {},
   "outputs": [],
   "source": [
    "final_inputs = inputs_filt_1[err_1 < err_1_lim, :]\n",
    "final_output = output_filt_1[err_1 < err_1_lim]"
   ]
  },
  {
   "cell_type": "code",
   "execution_count": null,
   "id": "bf7df2b7-f681-4c34-8514-d5c1c10c7efa",
   "metadata": {},
   "outputs": [],
   "source": [
    "print(f\"Shape of inputs after first filtering iteration:              {final_inputs.shape}\")\n",
    "print(f\"Shape of output after first filtering iteration:              {final_output.shape}\")\n",
    "print(f\"Number of rejected points from first filtering iteration:     {output_filt_1.shape[0]-final_output.shape[0]}\")"
   ]
  },
  {
   "cell_type": "markdown",
   "id": "58388417-3c06-41a1-821a-91916c256760",
   "metadata": {},
   "source": [
    "# Investigate physics via machine learning..."
   ]
  },
  {
   "cell_type": "markdown",
   "id": "34caccb5-aa17-44c4-9704-4ca02219ecd9",
   "metadata": {},
   "source": [
    "#### Question: how does TI impact power production?"
   ]
  },
  {
   "cell_type": "code",
   "execution_count": null,
   "id": "f21c9758-eec1-4014-a49e-42a3f2f24b39",
   "metadata": {},
   "outputs": [],
   "source": [
    "print(f\"Minimum TI: {power_curve_df[\"TI\"].quantile(0.05)}\")\n",
    "print(f\"Maximum TI: {power_curve_df[\"TI\"].quantile(0.95)}\")"
   ]
  },
  {
   "cell_type": "code",
   "execution_count": null,
   "id": "9bc38595-42be-46f4-9fe4-db6282760e10",
   "metadata": {},
   "outputs": [],
   "source": [
    "investigate_ti_vals = np.array([5, 10, 15, 20, 25, 30])\n",
    "\n",
    "base_model_input = final_inputs[:, 0].reshape(-1, 1)\n",
    "output = final_output\n",
    "\n",
    "base_model = make_pipeline(MinMaxScaler(), GradientBoostingRegressor())\n",
    "base_model.fit(base_model_input, output)\n",
    "\n",
    "full_model_inputs = final_inputs\n",
    "\n",
    "full_model = make_pipeline(MinMaxScaler(), GradientBoostingRegressor())\n",
    "full_model.fit(full_model_inputs, output)"
   ]
  },
  {
   "cell_type": "code",
   "execution_count": null,
   "id": "e7a85421-1a82-4e06-bf2e-e1a4e493f5b7",
   "metadata": {},
   "outputs": [],
   "source": [
    "ws_vals = np.linspace(np.amin(base_model_input[:, 0]), np.amax(base_model_input[:, 0]), 100).reshape(-1, 1)\n",
    "base_power_pred = base_model.predict(ws_vals)\n",
    "\n",
    "ti_preds = np.full((ws_vals.shape[0], investigate_ti_vals.shape[0]), np.nan)\n",
    "\n",
    "for i in range(investigate_ti_vals.shape[0]):\n",
    "    inputs = np.concatenate([ws_vals, np.full((ws_vals.shape[0], 1), investigate_ti_vals[i])], axis=-1)\n",
    "    ti_preds[:, i] = full_model.predict(inputs)"
   ]
  },
  {
   "cell_type": "code",
   "execution_count": null,
   "id": "e2d1ac53-22c2-4075-9207-7454a0e9fb50",
   "metadata": {},
   "outputs": [],
   "source": [
    "cmap = pl.cm.coolwarm\n",
    "colors = cmap(np.linspace(0, 1, investigate_ti_vals.shape[0]))\n",
    "\n",
    "fig, ax = plt.subplots(1, 1, constrained_layout=True)\n",
    "fig.set_size_inches([5, 3])\n",
    "\n",
    "for i in range(investigate_ti_vals.shape[0]):\n",
    "    ax.plot(ws_vals, ti_preds[:, i], '-', linewidth=1.5, color=colors[i])\n",
    "ax.plot(ws_vals, base_power_pred, 'k--', linewidth=3, label=\"Basic Pred.\")\n",
    "\n",
    "norm = pl.Normalize(vmin=investigate_ti_vals[0],\n",
    "                    vmax=investigate_ti_vals[-1])\n",
    "sm = pl.cm.ScalarMappable(cmap=cmap, norm=norm)\n",
    "fig.colorbar(sm, label=\"$TI$ [%]\", ax=ax)\n",
    "\n",
    "ax.grid(True)\n",
    "ax.set_xlabel(\"$U_{norm}$ [--]\")\n",
    "ax.set_ylabel(\"$P_{norm}$ [--]\")\n",
    "ax.legend()"
   ]
  }
 ],
 "metadata": {
  "kernelspec": {
   "display_name": "Python 3 (ipykernel)",
   "language": "python",
   "name": "python3"
  },
  "language_info": {
   "codemirror_mode": {
    "name": "ipython",
    "version": 3
   },
   "file_extension": ".py",
   "mimetype": "text/x-python",
   "name": "python",
   "nbconvert_exporter": "python",
   "pygments_lexer": "ipython3",
   "version": "3.11.5"
  }
 },
 "nbformat": 4,
 "nbformat_minor": 5
}
