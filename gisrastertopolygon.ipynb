{
 "cells": [
  {
   "cell_type": "code",
   "execution_count": 2,
   "id": "54e2b113-d86b-4d89-839a-bd930d2fe09f",
   "metadata": {},
   "outputs": [
    {
     "name": "stderr",
     "output_type": "stream",
     "text": [
      "ERROR: Could not find a version that satisfies the requirement arcpy (from versions: none)\n",
      "ERROR: No matching distribution found for arcpy\n"
     ]
    }
   ],
   "source": [
    "!pip install arcpy"
   ]
  },
  {
   "cell_type": "code",
   "execution_count": 1,
   "id": "4746185f-0ebd-4c0a-9120-4ef46094c05f",
   "metadata": {},
   "outputs": [
    {
     "ename": "ModuleNotFoundError",
     "evalue": "No module named 'arcpy'",
     "output_type": "error",
     "traceback": [
      "\u001b[1;31m---------------------------------------------------------------------------\u001b[0m",
      "\u001b[1;31mModuleNotFoundError\u001b[0m                       Traceback (most recent call last)",
      "Cell \u001b[1;32mIn[1], line 1\u001b[0m\n\u001b[1;32m----> 1\u001b[0m \u001b[38;5;28;01mimport\u001b[39;00m \u001b[38;5;21;01marcpy\u001b[39;00m\n\u001b[0;32m      2\u001b[0m \u001b[38;5;28;01mimport\u001b[39;00m \u001b[38;5;21;01mos\u001b[39;00m\n\u001b[0;32m      4\u001b[0m \u001b[38;5;66;03m# Set your working directory\u001b[39;00m\n",
      "\u001b[1;31mModuleNotFoundError\u001b[0m: No module named 'arcpy'"
     ]
    }
   ],
   "source": [
    "import arcpy\n",
    "import os\n",
    "\n",
    "# Set your working directory\n",
    "composite_dir = r\"C:\\Users\\gargi\\Downloads\\classified_outputs\"\n",
    "arcpy.env.workspace = composite_dir\n",
    "arcpy.env.overwriteOutput = True\n",
    "\n",
    "# List all .tif raster files in that folder\n",
    "composite_rasters = arcpy.ListRasters(\"*_classified.tif\")\n",
    "\n",
    "# Print and optionally open each\n",
    "print(\"📂 Found these classified composite rasters:\")\n",
    "for raster in composite_rasters:\n",
    "    print(f\" - {raster}\")\n",
    "\n",
    "# (Optional) Example: open the first raster for checking\n",
    "if composite_rasters:\n",
    "    first_raster = composite_rasters[0]\n",
    "    print(f\"\\n🧪 Example: Raster properties for {first_raster}\")\n",
    "    desc = arcpy.Describe(first_raster)\n",
    "    print(f\"  - Spatial reference: {desc.spatialReference.name}\")\n",
    "    print(f\"  - Raster format: {desc.format}\")\n",
    "    print(f\"  - Pixel type: {desc.pixelType}\")\n",
    "    print(f\"  - Band count: {desc.bandCount}\")\n"
   ]
  },
  {
   "cell_type": "code",
   "execution_count": null,
   "id": "5326330c-21e5-49bb-82de-423e20972fc6",
   "metadata": {},
   "outputs": [],
   "source": []
  }
 ],
 "metadata": {
  "kernelspec": {
   "display_name": "Python 3 (ipykernel)",
   "language": "python",
   "name": "python3"
  },
  "language_info": {
   "codemirror_mode": {
    "name": "ipython",
    "version": 3
   },
   "file_extension": ".py",
   "mimetype": "text/x-python",
   "name": "python",
   "nbconvert_exporter": "python",
   "pygments_lexer": "ipython3",
   "version": "3.11.5"
  }
 },
 "nbformat": 4,
 "nbformat_minor": 5
}
